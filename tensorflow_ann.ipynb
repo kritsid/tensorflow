{
  "nbformat": 4,
  "nbformat_minor": 0,
  "metadata": {
    "colab": {
      "name": "tensorflow_ann.ipynb",
      "provenance": [],
      "authorship_tag": "ABX9TyNiI5YGxmRprv1ZbYIpQ2sd",
      "include_colab_link": true
    },
    "kernelspec": {
      "name": "python3",
      "display_name": "Python 3"
    }
  },
  "cells": [
    {
      "cell_type": "markdown",
      "metadata": {
        "id": "view-in-github",
        "colab_type": "text"
      },
      "source": [
        "<a href=\"https://colab.research.google.com/github/kritsid/tensorflow/blob/master/tensorflow_ann.ipynb\" target=\"_parent\"><img src=\"https://colab.research.google.com/assets/colab-badge.svg\" alt=\"Open In Colab\"/></a>"
      ]
    },
    {
      "cell_type": "code",
      "metadata": {
        "id": "g_HfN0OvU9ly",
        "colab_type": "code",
        "colab": {}
      },
      "source": [
        "# fashion mnist dataset from kaggle\n",
        "#for clasic ann input vector has to be 1D vector so we need to convert 2d i.e 28*28 into 1d i.e 784 pixels\n",
        "# there will be 785 columns, each column corresponds to 1 pixel and each row represents one image \n",
        "# each pisel has some value bw 0 to 255.\n",
        "# Each training and test example is assigned to one of the following labels:\n",
        "\n",
        "# 0 T-shirt/top\n",
        "# 1 Trouser\n",
        "# 2 Pullover\n",
        "# 3 Dress\n",
        "# 4 Coat\n",
        "# 5 Sandal\n",
        "# 6 Shirt\n",
        "# 7 Sneaker\n",
        "# 8 Bag\n",
        "# 9 Ankle boot"
      ],
      "execution_count": 0,
      "outputs": []
    },
    {
      "cell_type": "code",
      "metadata": {
        "id": "AV9C2Yyqyx5K",
        "colab_type": "code",
        "colab": {
          "base_uri": "https://localhost:8080/",
          "height": 394
        },
        "outputId": "57e95579-a5fb-4e8f-e377-8cc9febc563e"
      },
      "source": [
        "!pip install tensorflow-gpu==2.0.0.alpha0 "
      ],
      "execution_count": 2,
      "outputs": [
        {
          "output_type": "stream",
          "text": [
            "Requirement already satisfied: tensorflow-gpu==2.0.0.alpha0 in /usr/local/lib/python3.6/dist-packages (2.0.0a0)\n",
            "Requirement already satisfied: tb-nightly<1.14.0a20190302,>=1.14.0a20190301 in /usr/local/lib/python3.6/dist-packages (from tensorflow-gpu==2.0.0.alpha0) (1.14.0a20190301)\n",
            "Requirement already satisfied: termcolor>=1.1.0 in /usr/local/lib/python3.6/dist-packages (from tensorflow-gpu==2.0.0.alpha0) (1.1.0)\n",
            "Requirement already satisfied: grpcio>=1.8.6 in /usr/local/lib/python3.6/dist-packages (from tensorflow-gpu==2.0.0.alpha0) (1.29.0)\n",
            "Requirement already satisfied: six>=1.10.0 in /usr/local/lib/python3.6/dist-packages (from tensorflow-gpu==2.0.0.alpha0) (1.12.0)\n",
            "Requirement already satisfied: tf-estimator-nightly<1.14.0.dev2019030116,>=1.14.0.dev2019030115 in /usr/local/lib/python3.6/dist-packages (from tensorflow-gpu==2.0.0.alpha0) (1.14.0.dev2019030115)\n",
            "Requirement already satisfied: wheel>=0.26 in /usr/local/lib/python3.6/dist-packages (from tensorflow-gpu==2.0.0.alpha0) (0.34.2)\n",
            "Requirement already satisfied: astor>=0.6.0 in /usr/local/lib/python3.6/dist-packages (from tensorflow-gpu==2.0.0.alpha0) (0.8.1)\n",
            "Requirement already satisfied: gast>=0.2.0 in /usr/local/lib/python3.6/dist-packages (from tensorflow-gpu==2.0.0.alpha0) (0.3.3)\n",
            "Requirement already satisfied: numpy<2.0,>=1.14.5 in /usr/local/lib/python3.6/dist-packages (from tensorflow-gpu==2.0.0.alpha0) (1.18.4)\n",
            "Requirement already satisfied: protobuf>=3.6.1 in /usr/local/lib/python3.6/dist-packages (from tensorflow-gpu==2.0.0.alpha0) (3.10.0)\n",
            "Requirement already satisfied: keras-preprocessing>=1.0.5 in /usr/local/lib/python3.6/dist-packages (from tensorflow-gpu==2.0.0.alpha0) (1.1.2)\n",
            "Requirement already satisfied: keras-applications>=1.0.6 in /usr/local/lib/python3.6/dist-packages (from tensorflow-gpu==2.0.0.alpha0) (1.0.8)\n",
            "Requirement already satisfied: absl-py>=0.7.0 in /usr/local/lib/python3.6/dist-packages (from tensorflow-gpu==2.0.0.alpha0) (0.9.0)\n",
            "Requirement already satisfied: google-pasta>=0.1.2 in /usr/local/lib/python3.6/dist-packages (from tensorflow-gpu==2.0.0.alpha0) (0.2.0)\n",
            "Requirement already satisfied: markdown>=2.6.8 in /usr/local/lib/python3.6/dist-packages (from tb-nightly<1.14.0a20190302,>=1.14.0a20190301->tensorflow-gpu==2.0.0.alpha0) (3.2.2)\n",
            "Requirement already satisfied: werkzeug>=0.11.15 in /usr/local/lib/python3.6/dist-packages (from tb-nightly<1.14.0a20190302,>=1.14.0a20190301->tensorflow-gpu==2.0.0.alpha0) (1.0.1)\n",
            "Requirement already satisfied: setuptools in /usr/local/lib/python3.6/dist-packages (from protobuf>=3.6.1->tensorflow-gpu==2.0.0.alpha0) (47.1.1)\n",
            "Requirement already satisfied: h5py in /usr/local/lib/python3.6/dist-packages (from keras-applications>=1.0.6->tensorflow-gpu==2.0.0.alpha0) (2.10.0)\n",
            "Requirement already satisfied: importlib-metadata; python_version < \"3.8\" in /usr/local/lib/python3.6/dist-packages (from markdown>=2.6.8->tb-nightly<1.14.0a20190302,>=1.14.0a20190301->tensorflow-gpu==2.0.0.alpha0) (1.6.0)\n",
            "Requirement already satisfied: zipp>=0.5 in /usr/local/lib/python3.6/dist-packages (from importlib-metadata; python_version < \"3.8\"->markdown>=2.6.8->tb-nightly<1.14.0a20190302,>=1.14.0a20190301->tensorflow-gpu==2.0.0.alpha0) (3.1.0)\n"
          ],
          "name": "stdout"
        }
      ]
    },
    {
      "cell_type": "code",
      "metadata": {
        "id": "8zcMOftwg2Oi",
        "colab_type": "code",
        "colab": {}
      },
      "source": [
        "\n",
        "# importing libraries and dataset\n",
        "import numpy as np\n",
        "import tensorflow as tf\n",
        "import datetime\n",
        "from tensorflow.keras.datasets import fashion_mnist"
      ],
      "execution_count": 0,
      "outputs": []
    },
    {
      "cell_type": "code",
      "metadata": {
        "id": "VE6_BUP7yhjt",
        "colab_type": "code",
        "colab": {
          "base_uri": "https://localhost:8080/",
          "height": 34
        },
        "outputId": "cb7b9e87-eb9e-4521-8a92-15eeae727450"
      },
      "source": [
        "tf.__version__"
      ],
      "execution_count": 54,
      "outputs": [
        {
          "output_type": "execute_result",
          "data": {
            "text/plain": [
              "'2.0.0-alpha0'"
            ]
          },
          "metadata": {
            "tags": []
          },
          "execution_count": 54
        }
      ]
    },
    {
      "cell_type": "code",
      "metadata": {
        "id": "Aa6XedcVhJ8s",
        "colab_type": "code",
        "colab": {}
      },
      "source": [
        "# preprocessing;\n",
        "# step1:\n",
        "(X_train,y_train),(X_test,y_test) = fashion_mnist.load_data()"
      ],
      "execution_count": 0,
      "outputs": []
    },
    {
      "cell_type": "code",
      "metadata": {
        "id": "Sd8rjw7-htVW",
        "colab_type": "code",
        "colab": {}
      },
      "source": [
        "# step -2\n",
        "# normalizing images(input) to train our nn faster\n",
        "# divide each pixel by max pixel value\n",
        "\n",
        "X_train = X_train/255.0\n",
        "X_test = X_test/255.0"
      ],
      "execution_count": 0,
      "outputs": []
    },
    {
      "cell_type": "code",
      "metadata": {
        "id": "LWHJeuPUiCwd",
        "colab_type": "code",
        "colab": {}
      },
      "source": [
        "# step -3\n",
        "# reshape() settin ginput image into accurate format\n",
        "# 1st dim gives index of image and rest 2 give dm of array(containing pixel of image)\n",
        "# flatten each image(all images to 1D vector)"
      ],
      "execution_count": 0,
      "outputs": []
    },
    {
      "cell_type": "code",
      "metadata": {
        "id": "ggOTYwdIigC_",
        "colab_type": "code",
        "colab": {
          "base_uri": "https://localhost:8080/",
          "height": 34
        },
        "outputId": "334e7af3-d413-47c5-9674-2cbfa1215695"
      },
      "source": [
        "X_train.shape"
      ],
      "execution_count": 58,
      "outputs": [
        {
          "output_type": "execute_result",
          "data": {
            "text/plain": [
              "(60000, 28, 28)"
            ]
          },
          "metadata": {
            "tags": []
          },
          "execution_count": 58
        }
      ]
    },
    {
      "cell_type": "code",
      "metadata": {
        "id": "hsbM02Y7iiNQ",
        "colab_type": "code",
        "colab": {}
      },
      "source": [
        "X_train = X_train.reshape(-1,28*28)#here, -1 refers to all the images of X_train\n"
      ],
      "execution_count": 0,
      "outputs": []
    },
    {
      "cell_type": "code",
      "metadata": {
        "id": "ltEZf9qAitlh",
        "colab_type": "code",
        "colab": {
          "base_uri": "https://localhost:8080/",
          "height": 34
        },
        "outputId": "6c143974-d9e2-42f1-8877-0b55c3869721"
      },
      "source": [
        "X_train.shape"
      ],
      "execution_count": 60,
      "outputs": [
        {
          "output_type": "execute_result",
          "data": {
            "text/plain": [
              "(60000, 784)"
            ]
          },
          "metadata": {
            "tags": []
          },
          "execution_count": 60
        }
      ]
    },
    {
      "cell_type": "code",
      "metadata": {
        "id": "uqojLdBfivib",
        "colab_type": "code",
        "colab": {}
      },
      "source": [
        "X_test = X_test.reshape(-1,28*28)"
      ],
      "execution_count": 0,
      "outputs": []
    },
    {
      "cell_type": "code",
      "metadata": {
        "id": "4ay-IBuVja9G",
        "colab_type": "code",
        "colab": {
          "base_uri": "https://localhost:8080/",
          "height": 34
        },
        "outputId": "13687d6b-3fb2-41d3-8c27-d0b1ee4c8c5f"
      },
      "source": [
        "X_test.shape"
      ],
      "execution_count": 62,
      "outputs": [
        {
          "output_type": "execute_result",
          "data": {
            "text/plain": [
              "(10000, 784)"
            ]
          },
          "metadata": {
            "tags": []
          },
          "execution_count": 62
        }
      ]
    },
    {
      "cell_type": "code",
      "metadata": {
        "id": "dQ9JoNA3veIR",
        "colab_type": "code",
        "colab": {
          "base_uri": "https://localhost:8080/",
          "height": 34
        },
        "outputId": "0e83ccef-86cf-42d6-96a9-389c51604965"
      },
      "source": [
        "X_train.shape"
      ],
      "execution_count": 63,
      "outputs": [
        {
          "output_type": "execute_result",
          "data": {
            "text/plain": [
              "(60000, 784)"
            ]
          },
          "metadata": {
            "tags": []
          },
          "execution_count": 63
        }
      ]
    },
    {
      "cell_type": "code",
      "metadata": {
        "id": "SoXaHL5LjeNt",
        "colab_type": "code",
        "colab": {}
      },
      "source": [
        "# ANN\n",
        "# defining model:\n",
        "model = tf.keras.models.Sequential()"
      ],
      "execution_count": 0,
      "outputs": []
    },
    {
      "cell_type": "markdown",
      "metadata": {
        "id": "yb2hpWiQk0ed",
        "colab_type": "text"
      },
      "source": [
        "units tell no. of neurons\n",
        "relu is to make our nn learn non linear relation between pixels\n",
        "input_shape is single vector image flattened to 1D.\n",
        "in 1st layer, we use add() method to aff Dense (type of layer) that represents first fully connected layer"
      ]
    },
    {
      "cell_type": "code",
      "metadata": {
        "id": "TLbNE_vIkJck",
        "colab_type": "code",
        "colab": {}
      },
      "source": [
        "model.add(tf.keras.layers.Dense(units = 128,activation = 'relu',input_shape = (784,)))"
      ],
      "execution_count": 0,
      "outputs": []
    },
    {
      "cell_type": "markdown",
      "metadata": {
        "id": "6-6yZSHRlivF",
        "colab_type": "text"
      },
      "source": [
        "dropout: regulariztion technique(layer in which some neurons are deactivated or neuro weights will not be updated during back propagation.)\n",
        "As a neural network learns, neuron weights settle into their context within the network. Weights of neurons are tuned for specific features providing some specialization. Neighboring neurons become to rely on this specialization, which if taken too far can result in a fragile model too specialized to the training data. This reliant on context for a neuron during training is referred to complex co-adaptations.\n",
        "\n",
        "You can imagine that if neurons are randomly dropped out of the network during training, that other neurons will have to step in and handle the representation required to make predictions for the missing neurons. This is believed to result in multiple independent internal representations being learned by the network.\n"
      ]
    },
    {
      "cell_type": "code",
      "metadata": {
        "id": "wsS41DeG4L7H",
        "colab_type": "code",
        "colab": {}
      },
      "source": [
        "model.add(tf.keras.layers.Dense(units=64,activation='relu'))\n"
      ],
      "execution_count": 0,
      "outputs": []
    },
    {
      "cell_type": "code",
      "metadata": {
        "id": "6bzeD8eI3ySm",
        "colab_type": "code",
        "colab": {}
      },
      "source": [
        "model.add(tf.keras.layers.Dense(units=50,activation='relu'))\n"
      ],
      "execution_count": 0,
      "outputs": []
    },
    {
      "cell_type": "code",
      "metadata": {
        "id": "GMgUbFdmklzd",
        "colab_type": "code",
        "colab": {}
      },
      "source": [
        "model.add(tf.keras.layers.Dropout(0.2))#percentage of neurons to be dropped out\n",
        "# done to avoid overfitting(learning too much about training)"
      ],
      "execution_count": 0,
      "outputs": []
    },
    {
      "cell_type": "code",
      "metadata": {
        "id": "gAVU2S2t4EuY",
        "colab_type": "code",
        "colab": {}
      },
      "source": [
        "model.add(tf.keras.layers.Dense(units=32,activation='relu'))\n"
      ],
      "execution_count": 0,
      "outputs": []
    },
    {
      "cell_type": "code",
      "metadata": {
        "id": "DBcZqO9M4Hmn",
        "colab_type": "code",
        "colab": {}
      },
      "source": [
        "model.add(tf.keras.layers.Dense(units=16,activation='relu'))\n"
      ],
      "execution_count": 0,
      "outputs": []
    },
    {
      "cell_type": "code",
      "metadata": {
        "id": "B3KsnjnamkC5",
        "colab_type": "code",
        "colab": {}
      },
      "source": [
        "model.add(tf.keras.layers.Dense(units=10,activation='softmax'))\n",
        "# to choose output with highest probability out of 10 classes(10 classes are present in MNIST dataset) of predicted probabilities.\n"
      ],
      "execution_count": 0,
      "outputs": []
    },
    {
      "cell_type": "code",
      "metadata": {
        "id": "fV2oAkuGnNxB",
        "colab_type": "code",
        "colab": {}
      },
      "source": [
        "# compilation:\n",
        "# now we need an optimizer \n",
        "# for binary classification we can use metrics as accuracy\n",
        "model.compile(optimizer=\"adam\",loss=\"sparse_categorical_crossentropy\",metrics=['accuracy'])"
      ],
      "execution_count": 0,
      "outputs": []
    },
    {
      "cell_type": "code",
      "metadata": {
        "id": "w0W-8quOpvpU",
        "colab_type": "code",
        "colab": {
          "base_uri": "https://localhost:8080/",
          "height": 391
        },
        "outputId": "4fa57920-0e0f-479d-b6e5-8796d159a318"
      },
      "source": [
        "model.summary()"
      ],
      "execution_count": 119,
      "outputs": [
        {
          "output_type": "stream",
          "text": [
            "Model: \"sequential_5\"\n",
            "_________________________________________________________________\n",
            "Layer (type)                 Output Shape              Param #   \n",
            "=================================================================\n",
            "dense_16 (Dense)             (None, 128)               100480    \n",
            "_________________________________________________________________\n",
            "dense_17 (Dense)             (None, 64)                8256      \n",
            "_________________________________________________________________\n",
            "dense_18 (Dense)             (None, 50)                3250      \n",
            "_________________________________________________________________\n",
            "dropout_8 (Dropout)          (None, 50)                0         \n",
            "_________________________________________________________________\n",
            "dense_19 (Dense)             (None, 32)                1632      \n",
            "_________________________________________________________________\n",
            "dense_20 (Dense)             (None, 16)                528       \n",
            "_________________________________________________________________\n",
            "dense_21 (Dense)             (None, 10)                170       \n",
            "=================================================================\n",
            "Total params: 114,316\n",
            "Trainable params: 114,316\n",
            "Non-trainable params: 0\n",
            "_________________________________________________________________\n"
          ],
          "name": "stdout"
        }
      ]
    },
    {
      "cell_type": "markdown",
      "metadata": {
        "id": "mv1bQs8wqFWn",
        "colab_type": "text"
      },
      "source": [
        "params correspond to all weights in model\n",
        "non trainable parameter are hyperparameters\n",
        "        "
      ]
    },
    {
      "cell_type": "code",
      "metadata": {
        "id": "kmbD-KR0rSZ5",
        "colab_type": "code",
        "colab": {}
      },
      "source": [
        "# from keras.utils import to_categorical\n",
        "# y_train = to_categorical(y_train)\n",
        "# y_test = to_categorical(y_test)"
      ],
      "execution_count": 0,
      "outputs": []
    },
    {
      "cell_type": "code",
      "metadata": {
        "id": "NMJCswixpx5t",
        "colab_type": "code",
        "colab": {
          "base_uri": "https://localhost:8080/",
          "height": 204
        },
        "outputId": "3875ebbf-df72-402c-a019-bef45497ad23"
      },
      "source": [
        "model.fit(x=X_train,y=y_train,epochs=5)    "
      ],
      "execution_count": 121,
      "outputs": [
        {
          "output_type": "stream",
          "text": [
            "Epoch 1/5\n",
            "60000/60000 [==============================] - 6s 102us/sample - loss: 0.3130 - accuracy: 0.8860\n",
            "Epoch 2/5\n",
            "60000/60000 [==============================] - 6s 96us/sample - loss: 0.2983 - accuracy: 0.8904\n",
            "Epoch 3/5\n",
            "60000/60000 [==============================] - 6s 95us/sample - loss: 0.2884 - accuracy: 0.8955\n",
            "Epoch 4/5\n",
            "60000/60000 [==============================] - 6s 101us/sample - loss: 0.2794 - accuracy: 0.8974\n",
            "Epoch 5/5\n",
            "60000/60000 [==============================] - 6s 101us/sample - loss: 0.2714 - accuracy: 0.8997\n"
          ],
          "name": "stdout"
        },
        {
          "output_type": "execute_result",
          "data": {
            "text/plain": [
              "<tensorflow.python.keras.callbacks.History at 0x7ff79f56df28>"
            ]
          },
          "metadata": {
            "tags": []
          },
          "execution_count": 121
        }
      ]
    },
    {
      "cell_type": "code",
      "metadata": {
        "id": "bORw9FtAqgvz",
        "colab_type": "code",
        "colab": {
          "base_uri": "https://localhost:8080/",
          "height": 34
        },
        "outputId": "015436f0-d085-4d34-9fbf-cfc5f0c3a93a"
      },
      "source": [
        "# prdiction\n",
        "test_loss,test_accuracy = model.evaluate(X_test,y_test)\n"
      ],
      "execution_count": 122,
      "outputs": [
        {
          "output_type": "stream",
          "text": [
            "10000/10000 [==============================] - 1s 57us/sample - loss: 0.3505 - accuracy: 0.8771\n"
          ],
          "name": "stdout"
        }
      ]
    },
    {
      "cell_type": "code",
      "metadata": {
        "id": "Ji4RjjIxuU3n",
        "colab_type": "code",
        "colab": {
          "base_uri": "https://localhost:8080/",
          "height": 34
        },
        "outputId": "c0f631b0-6b22-468a-d58e-307ecf2303a5"
      },
      "source": [
        "print(test_accuracy)"
      ],
      "execution_count": 123,
      "outputs": [
        {
          "output_type": "stream",
          "text": [
            "0.8771\n"
          ],
          "name": "stdout"
        }
      ]
    },
    {
      "cell_type": "code",
      "metadata": {
        "id": "lu7Wu3dLuec6",
        "colab_type": "code",
        "colab": {}
      },
      "source": [
        ""
      ],
      "execution_count": 0,
      "outputs": []
    }
  ]
}